{
 "cells": [
  {
   "cell_type": "code",
   "execution_count": 53,
   "metadata": {},
   "outputs": [],
   "source": [
    "import pandas as pd\n",
    "import numpy as np\n"
   ]
  },
  {
   "cell_type": "code",
   "execution_count": null,
   "metadata": {},
   "outputs": [],
   "source": []
  },
  {
   "cell_type": "code",
   "execution_count": 54,
   "metadata": {},
   "outputs": [],
   "source": [
    "data = pd.read_csv('data.csv')"
   ]
  },
  {
   "cell_type": "code",
   "execution_count": 55,
   "metadata": {},
   "outputs": [
    {
     "data": {
      "text/html": [
       "<div>\n",
       "<style scoped>\n",
       "    .dataframe tbody tr th:only-of-type {\n",
       "        vertical-align: middle;\n",
       "    }\n",
       "\n",
       "    .dataframe tbody tr th {\n",
       "        vertical-align: top;\n",
       "    }\n",
       "\n",
       "    .dataframe thead th {\n",
       "        text-align: right;\n",
       "    }\n",
       "</style>\n",
       "<table border=\"1\" class=\"dataframe\">\n",
       "  <thead>\n",
       "    <tr style=\"text-align: right;\">\n",
       "      <th></th>\n",
       "      <th>Date</th>\n",
       "      <th>Open</th>\n",
       "      <th>High</th>\n",
       "      <th>Low</th>\n",
       "      <th>Close</th>\n",
       "      <th>Shares Traded</th>\n",
       "      <th>Turnover (Rs. Cr)</th>\n",
       "    </tr>\n",
       "  </thead>\n",
       "  <tbody>\n",
       "    <tr>\n",
       "      <th>0</th>\n",
       "      <td>31-Aug-2021</td>\n",
       "      <td>16947.50</td>\n",
       "      <td>17153.50</td>\n",
       "      <td>16915.85</td>\n",
       "      <td>17132.20</td>\n",
       "      <td>464390247</td>\n",
       "      <td>40147.89</td>\n",
       "    </tr>\n",
       "    <tr>\n",
       "      <th>1</th>\n",
       "      <td>01-Sep-2021</td>\n",
       "      <td>17185.60</td>\n",
       "      <td>17225.75</td>\n",
       "      <td>17055.05</td>\n",
       "      <td>17076.25</td>\n",
       "      <td>301894634</td>\n",
       "      <td>27691.93</td>\n",
       "    </tr>\n",
       "    <tr>\n",
       "      <th>2</th>\n",
       "      <td>02-Sep-2021</td>\n",
       "      <td>17095.40</td>\n",
       "      <td>17245.50</td>\n",
       "      <td>17059.70</td>\n",
       "      <td>17234.15</td>\n",
       "      <td>242377518</td>\n",
       "      <td>22620.36</td>\n",
       "    </tr>\n",
       "    <tr>\n",
       "      <th>3</th>\n",
       "      <td>03-Sep-2021</td>\n",
       "      <td>17262.45</td>\n",
       "      <td>17340.10</td>\n",
       "      <td>17212.20</td>\n",
       "      <td>17323.60</td>\n",
       "      <td>261373795</td>\n",
       "      <td>23579.17</td>\n",
       "    </tr>\n",
       "    <tr>\n",
       "      <th>4</th>\n",
       "      <td>06-Sep-2021</td>\n",
       "      <td>17399.35</td>\n",
       "      <td>17429.55</td>\n",
       "      <td>17345.55</td>\n",
       "      <td>17377.80</td>\n",
       "      <td>228045532</td>\n",
       "      <td>21270.62</td>\n",
       "    </tr>\n",
       "  </tbody>\n",
       "</table>\n",
       "</div>"
      ],
      "text/plain": [
       "          Date      Open      High       Low     Close  Shares Traded  \\\n",
       "0  31-Aug-2021  16947.50  17153.50  16915.85  17132.20      464390247   \n",
       "1  01-Sep-2021  17185.60  17225.75  17055.05  17076.25      301894634   \n",
       "2  02-Sep-2021  17095.40  17245.50  17059.70  17234.15      242377518   \n",
       "3  03-Sep-2021  17262.45  17340.10  17212.20  17323.60      261373795   \n",
       "4  06-Sep-2021  17399.35  17429.55  17345.55  17377.80      228045532   \n",
       "\n",
       "   Turnover (Rs. Cr)  \n",
       "0           40147.89  \n",
       "1           27691.93  \n",
       "2           22620.36  \n",
       "3           23579.17  \n",
       "4           21270.62  "
      ]
     },
     "execution_count": 55,
     "metadata": {},
     "output_type": "execute_result"
    }
   ],
   "source": [
    "data.head()"
   ]
  },
  {
   "cell_type": "code",
   "execution_count": 56,
   "metadata": {},
   "outputs": [],
   "source": [
    "data.drop(['Open', \"High\", 'Low', 'Shares Traded', 'Turnover (Rs. Cr)'], inplace = True, axis = 'columns')"
   ]
  },
  {
   "cell_type": "code",
   "execution_count": 57,
   "metadata": {},
   "outputs": [
    {
     "data": {
      "text/html": [
       "<div>\n",
       "<style scoped>\n",
       "    .dataframe tbody tr th:only-of-type {\n",
       "        vertical-align: middle;\n",
       "    }\n",
       "\n",
       "    .dataframe tbody tr th {\n",
       "        vertical-align: top;\n",
       "    }\n",
       "\n",
       "    .dataframe thead th {\n",
       "        text-align: right;\n",
       "    }\n",
       "</style>\n",
       "<table border=\"1\" class=\"dataframe\">\n",
       "  <thead>\n",
       "    <tr style=\"text-align: right;\">\n",
       "      <th></th>\n",
       "      <th>Date</th>\n",
       "      <th>Close</th>\n",
       "    </tr>\n",
       "  </thead>\n",
       "  <tbody>\n",
       "    <tr>\n",
       "      <th>0</th>\n",
       "      <td>31-Aug-2021</td>\n",
       "      <td>17132.20</td>\n",
       "    </tr>\n",
       "    <tr>\n",
       "      <th>1</th>\n",
       "      <td>01-Sep-2021</td>\n",
       "      <td>17076.25</td>\n",
       "    </tr>\n",
       "    <tr>\n",
       "      <th>2</th>\n",
       "      <td>02-Sep-2021</td>\n",
       "      <td>17234.15</td>\n",
       "    </tr>\n",
       "    <tr>\n",
       "      <th>3</th>\n",
       "      <td>03-Sep-2021</td>\n",
       "      <td>17323.60</td>\n",
       "    </tr>\n",
       "    <tr>\n",
       "      <th>4</th>\n",
       "      <td>06-Sep-2021</td>\n",
       "      <td>17377.80</td>\n",
       "    </tr>\n",
       "  </tbody>\n",
       "</table>\n",
       "</div>"
      ],
      "text/plain": [
       "          Date     Close\n",
       "0  31-Aug-2021  17132.20\n",
       "1  01-Sep-2021  17076.25\n",
       "2  02-Sep-2021  17234.15\n",
       "3  03-Sep-2021  17323.60\n",
       "4  06-Sep-2021  17377.80"
      ]
     },
     "execution_count": 57,
     "metadata": {},
     "output_type": "execute_result"
    }
   ],
   "source": [
    "data.head()"
   ]
  },
  {
   "cell_type": "code",
   "execution_count": 58,
   "metadata": {},
   "outputs": [],
   "source": [
    "data['Daily Change %'] = data['Close']"
   ]
  },
  {
   "cell_type": "code",
   "execution_count": 59,
   "metadata": {},
   "outputs": [
    {
     "data": {
      "text/html": [
       "<div>\n",
       "<style scoped>\n",
       "    .dataframe tbody tr th:only-of-type {\n",
       "        vertical-align: middle;\n",
       "    }\n",
       "\n",
       "    .dataframe tbody tr th {\n",
       "        vertical-align: top;\n",
       "    }\n",
       "\n",
       "    .dataframe thead th {\n",
       "        text-align: right;\n",
       "    }\n",
       "</style>\n",
       "<table border=\"1\" class=\"dataframe\">\n",
       "  <thead>\n",
       "    <tr style=\"text-align: right;\">\n",
       "      <th></th>\n",
       "      <th>Date</th>\n",
       "      <th>Close</th>\n",
       "      <th>Daily Change %</th>\n",
       "    </tr>\n",
       "  </thead>\n",
       "  <tbody>\n",
       "    <tr>\n",
       "      <th>0</th>\n",
       "      <td>31-Aug-2021</td>\n",
       "      <td>17132.20</td>\n",
       "      <td>17132.20</td>\n",
       "    </tr>\n",
       "    <tr>\n",
       "      <th>1</th>\n",
       "      <td>01-Sep-2021</td>\n",
       "      <td>17076.25</td>\n",
       "      <td>17076.25</td>\n",
       "    </tr>\n",
       "    <tr>\n",
       "      <th>2</th>\n",
       "      <td>02-Sep-2021</td>\n",
       "      <td>17234.15</td>\n",
       "      <td>17234.15</td>\n",
       "    </tr>\n",
       "    <tr>\n",
       "      <th>3</th>\n",
       "      <td>03-Sep-2021</td>\n",
       "      <td>17323.60</td>\n",
       "      <td>17323.60</td>\n",
       "    </tr>\n",
       "    <tr>\n",
       "      <th>4</th>\n",
       "      <td>06-Sep-2021</td>\n",
       "      <td>17377.80</td>\n",
       "      <td>17377.80</td>\n",
       "    </tr>\n",
       "  </tbody>\n",
       "</table>\n",
       "</div>"
      ],
      "text/plain": [
       "          Date     Close  Daily Change %\n",
       "0  31-Aug-2021  17132.20        17132.20\n",
       "1  01-Sep-2021  17076.25        17076.25\n",
       "2  02-Sep-2021  17234.15        17234.15\n",
       "3  03-Sep-2021  17323.60        17323.60\n",
       "4  06-Sep-2021  17377.80        17377.80"
      ]
     },
     "execution_count": 59,
     "metadata": {},
     "output_type": "execute_result"
    }
   ],
   "source": [
    "data.head()"
   ]
  },
  {
   "cell_type": "code",
   "execution_count": 60,
   "metadata": {},
   "outputs": [
    {
     "data": {
      "text/plain": [
       "248"
      ]
     },
     "execution_count": 60,
     "metadata": {},
     "output_type": "execute_result"
    }
   ],
   "source": [
    "len(data['Close'])"
   ]
  },
  {
   "cell_type": "code",
   "execution_count": 61,
   "metadata": {},
   "outputs": [
    {
     "data": {
      "text/plain": [
       "17076.25"
      ]
     },
     "execution_count": 61,
     "metadata": {},
     "output_type": "execute_result"
    }
   ],
   "source": [
    "data['Daily Change %'][1]"
   ]
  },
  {
   "cell_type": "code",
   "execution_count": 91,
   "metadata": {},
   "outputs": [
    {
     "name": "stderr",
     "output_type": "stream",
     "text": [
      "C:\\Users\\Epic\\AppData\\Local\\Temp\\ipykernel_12236\\4166043372.py:3: SettingWithCopyWarning: \n",
      "A value is trying to be set on a copy of a slice from a DataFrame\n",
      "\n",
      "See the caveats in the documentation: https://pandas.pydata.org/pandas-docs/stable/user_guide/indexing.html#returning-a-view-versus-a-copy\n",
      "  data['Daily Change %'][index] = 0\n",
      "C:\\Users\\Epic\\AppData\\Local\\Temp\\ipykernel_12236\\4166043372.py:5: SettingWithCopyWarning: \n",
      "A value is trying to be set on a copy of a slice from a DataFrame\n",
      "\n",
      "See the caveats in the documentation: https://pandas.pydata.org/pandas-docs/stable/user_guide/indexing.html#returning-a-view-versus-a-copy\n",
      "  data['Daily Change %'][index] = round((((data['Close'][index]/data['Close'][index-1])-1) *100),2)\n"
     ]
    }
   ],
   "source": [
    "for index in range(len(data['Close'])):\n",
    "    if index == 0:\n",
    "        data['Daily Change %'][index] = 0\n",
    "    else:\n",
    "        data['Daily Change %'][index] = round((((data['Close'][index]/data['Close'][index-1])-1) *100),2)"
   ]
  },
  {
   "cell_type": "code",
   "execution_count": 92,
   "metadata": {},
   "outputs": [
    {
     "data": {
      "text/html": [
       "<div>\n",
       "<style scoped>\n",
       "    .dataframe tbody tr th:only-of-type {\n",
       "        vertical-align: middle;\n",
       "    }\n",
       "\n",
       "    .dataframe tbody tr th {\n",
       "        vertical-align: top;\n",
       "    }\n",
       "\n",
       "    .dataframe thead th {\n",
       "        text-align: right;\n",
       "    }\n",
       "</style>\n",
       "<table border=\"1\" class=\"dataframe\">\n",
       "  <thead>\n",
       "    <tr style=\"text-align: right;\">\n",
       "      <th></th>\n",
       "      <th>Date</th>\n",
       "      <th>Close</th>\n",
       "      <th>Daily Change %</th>\n",
       "    </tr>\n",
       "  </thead>\n",
       "  <tbody>\n",
       "    <tr>\n",
       "      <th>243</th>\n",
       "      <td>23-Aug-2022</td>\n",
       "      <td>17577.50</td>\n",
       "      <td>0.50</td>\n",
       "    </tr>\n",
       "    <tr>\n",
       "      <th>244</th>\n",
       "      <td>24-Aug-2022</td>\n",
       "      <td>17604.95</td>\n",
       "      <td>0.16</td>\n",
       "    </tr>\n",
       "    <tr>\n",
       "      <th>245</th>\n",
       "      <td>25-Aug-2022</td>\n",
       "      <td>17522.45</td>\n",
       "      <td>-0.47</td>\n",
       "    </tr>\n",
       "    <tr>\n",
       "      <th>246</th>\n",
       "      <td>26-Aug-2022</td>\n",
       "      <td>17558.90</td>\n",
       "      <td>0.21</td>\n",
       "    </tr>\n",
       "    <tr>\n",
       "      <th>247</th>\n",
       "      <td>29-Aug-2022</td>\n",
       "      <td>17312.90</td>\n",
       "      <td>-1.40</td>\n",
       "    </tr>\n",
       "  </tbody>\n",
       "</table>\n",
       "</div>"
      ],
      "text/plain": [
       "            Date     Close  Daily Change %\n",
       "243  23-Aug-2022  17577.50            0.50\n",
       "244  24-Aug-2022  17604.95            0.16\n",
       "245  25-Aug-2022  17522.45           -0.47\n",
       "246  26-Aug-2022  17558.90            0.21\n",
       "247  29-Aug-2022  17312.90           -1.40"
      ]
     },
     "execution_count": 92,
     "metadata": {},
     "output_type": "execute_result"
    }
   ],
   "source": [
    "data.tail()"
   ]
  },
  {
   "cell_type": "code",
   "execution_count": 153,
   "metadata": {},
   "outputs": [
    {
     "name": "stdout",
     "output_type": "stream",
     "text": [
      "['Solarize_Light2', '_classic_test_patch', '_mpl-gallery', '_mpl-gallery-nogrid', 'bmh', 'classic', 'dark_background', 'fast', 'fivethirtyeight', 'ggplot', 'grayscale', 'seaborn', 'seaborn-bright', 'seaborn-colorblind', 'seaborn-dark', 'seaborn-dark-palette', 'seaborn-darkgrid', 'seaborn-deep', 'seaborn-muted', 'seaborn-notebook', 'seaborn-paper', 'seaborn-pastel', 'seaborn-poster', 'seaborn-talk', 'seaborn-ticks', 'seaborn-white', 'seaborn-whitegrid', 'tableau-colorblind10']\n"
     ]
    },
    {
     "data": {
      "image/png": "[encoded data removed]",
      "text/plain": [
       "<Figure size 1080x720 with 1 Axes>"
      ]
     },
     "metadata": {},
     "output_type": "display_data"
    }
   ],
   "source": [
    "import matplotlib.pyplot as plt\n",
    "%matplotlib inline\n",
    "from matplotlib import style\n",
    "print(plt.style.available )\n",
    "plt.style.use('fivethirtyeight')\n",
    "fig, ax = plt.subplots(figsize = (15,10))\n",
    "ax.hist(data['Daily Change %'], bins=100, )\n",
    "# ax.set_xticks([])\n",
    "# ax.set_yticks([])\n",
    "ax.set_ylabel('Frequency')\n",
    "ax.set_xlabel('Nifty Daily Change %')\n",
    "ax.set_xlim(-5,3)\n",
    "ax.set_ylim(0,12)\n",
    "ax.set_title('Distribution of Nifty Daily Change over the last 365 Days')\n",
    "plt.show()\n",
    "\n"
   ]
  },
  {
   "cell_type": "code",
   "execution_count": 140,
   "metadata": {},
   "outputs": [],
   "source": [
    "fig.savefig('Nifty_histogram_fivethirtyeight.png')"
   ]
  },
  {
   "cell_type": "code",
   "execution_count": 202,
   "metadata": {},
   "outputs": [
    {
     "data": {
      "text/plain": [
       "-0.03"
      ]
     },
     "execution_count": 202,
     "metadata": {},
     "output_type": "execute_result"
    }
   ],
   "source": []
  },
  {
   "cell_type": "code",
   "execution_count": 218,
   "metadata": {},
   "outputs": [
    {
     "data": {
      "image/png": "[encoded data removed]",
      "text/plain": [
       "<Figure size 1080x720 with 1 Axes>"
      ]
     },
     "metadata": {},
     "output_type": "display_data"
    }
   ],
   "source": [
    "from cProfile import label\n",
    "import seaborn as sns\n",
    "fig, ax1 = plt.subplots(figsize = (15,10))\n",
    "plt.style.use('ggplot')\n",
    "ax1 = sns.histplot(data['Daily Change %'], kde=True, bins=100)\n",
    "ax1.set_title('Distribution of \"Nifty Daily Change\" over the past 365 Days (30-08-2022)')\n",
    "\n",
    "# Visualizing todays Change\n",
    "todays_change = 2.58\n",
    "plt.axvline(x =todays_change, ymin=0,ymax =5,color ='green', linewidth = 2,linestyle =\"--\" )\n",
    "ax1.text(todays_change+0.1, 9, f\"Today's Change ({todays_change}%)\",rotation=90)\n",
    "\n",
    "#Visualizing Median\n",
    "median = data['Daily Change %'].median()\n",
    "ax1.text(median +0.1, 9, f\"Median Change ({median}%)\",rotation=90)\n",
    "plt.axvline(x =median, ymin=0,ymax =5,color ='blue', linewidth = 2,linestyle =\"dashdot\" )\n",
    "\n",
    "\n",
    "# Other params for ax1.text() are color='r', ha='right', va='top', rotation=90,\n",
    "plt.show()\n",
    "\n"
   ]
  },
  {
   "cell_type": "code",
   "execution_count": 186,
   "metadata": {},
   "outputs": [],
   "source": [
    "fig.savefig('Nifty_ggplot.png')"
   ]
  },
  {
   "cell_type": "code",
   "execution_count": null,
   "metadata": {},
   "outputs": [],
   "source": []
  },
  {
   "cell_type": "code",
   "execution_count": null,
   "metadata": {},
   "outputs": [],
   "source": []
  }
 ],
 "metadata": {
  "kernelspec": {
   "display_name": "Python 3.9.12 ('base')",
   "language": "python",
   "name": "python3"
  },
  "language_info": {
   "codemirror_mode": {
    "name": "ipython",
    "version": 3
   },
   "file_extension": ".py",
   "mimetype": "text/x-python",
   "name": "python",
   "nbconvert_exporter": "python",
   "pygments_lexer": "ipython3",
   "version": "3.9.12"
  },
  "orig_nbformat": 4,
  "vscode": {
   "interpreter": {
    "hash": "a5d6c2be6262c78dadbf075e7ed7eef3fc1090c1044fdcff36d11e01ba01e819"
   }
  }
 },
 "nbformat": 4,
 "nbformat_minor": 2
}
